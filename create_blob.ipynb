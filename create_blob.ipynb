{
 "cells": [
  {
   "cell_type": "markdown",
   "source": [
    "# Create a binary blob for an OAK-device from an object detection API model\r\n",
    "\r\n",
    "This notebook is used to convert a TF model (more specifically one created using the object detection API) to a `.blob`-file used by OAK-devices.\r\n",
    "There are two main steps to do this:\r\n",
    "1. Convert the TF model into the OpenVINO intermediate representation (IR)\r\n",
    "2. Compile the OpenVINO IR into a Myriad binary (`.blob`-file)\r\n",
    "\r\n",
    "This notebook is based on these tutorials:\r\n",
    "- https://docs.openvinotoolkit.org/latest/openvino_docs_MO_DG_prepare_model_convert_model_tf_specific_Convert_Object_Detection_API_Models.html\r\n",
    "- https://docs.luxonis.com/en/latest/pages/tutorials/local_convert_openvino/#compile-the-model"
   ],
   "metadata": {}
  },
  {
   "cell_type": "markdown",
   "source": [
    "## Options\r\n",
    "You may need to change these according to your paths and the model used.\r\n",
    "\r\n",
    "For the `TRANSFORMATION_CONFIG` have a look at the [OpenVINO documentation](https://docs.openvinotoolkit.org/latest/openvino_docs_MO_DG_prepare_model_convert_model_tf_specific_Convert_Object_Detection_API_Models.html)."
   ],
   "metadata": {}
  },
  {
   "cell_type": "code",
   "execution_count": 1,
   "source": [
    "# Options\r\n",
    "import os\r\n",
    "MODEL_DIR = \"./exported_models/ssd_mobilenet_v2_fpnlite_320x320/\"\r\n",
    "SAVED_MODEL = os.path.join(MODEL_DIR, \"saved_model\")\r\n",
    "PIPELINE_CONFIG = os.path.join(MODEL_DIR, \"pipeline.config\")\r\n",
    "\r\n",
    "OPENVINO_DIR = \"/opt/intel/openvino_2021\"\r\n",
    "TRANSFORMATION_CONFIG = os.path.join(OPENVINO_DIR, \"deployment_tools/model_optimizer/extensions/front/tf/ssd_support_api_v2.4.json\")"
   ],
   "outputs": [],
   "metadata": {}
  },
  {
   "cell_type": "markdown",
   "source": [
    "## Step 0: Install Prequisites (OpenVINO)\r\n",
    "This assumes you are using Ubuntu (or any other distribution using the APT package manager, e.g. Debian).\r\n",
    "For other ways to install OpenVINO refere to their [website](https://software.intel.com/content/www/us/en/develop/tools/openvino-toolkit/download.html)"
   ],
   "metadata": {}
  },
  {
   "cell_type": "markdown",
   "source": [
    "### Add Intel OpenVINO GPG-key"
   ],
   "metadata": {}
  },
  {
   "cell_type": "code",
   "execution_count": null,
   "source": [
    "!curl https://apt.repos.intel.com/openvino/2021/GPG-PUB-KEY-INTEL-OPENVINO-2021 -o openvino.gpg\r\n",
    "!sudo apt-key add openvino.gpg"
   ],
   "outputs": [],
   "metadata": {}
  },
  {
   "cell_type": "markdown",
   "source": [
    "### Add the repository"
   ],
   "metadata": {}
  },
  {
   "cell_type": "code",
   "execution_count": null,
   "source": [
    "!echo \"deb https://apt.repos.intel.com/openvino/2021/ all main\"| sudo tee /etc/apt/sources.list.d/intel-openvino-2021.list\r\n",
    "!sudo apt update"
   ],
   "outputs": [],
   "metadata": {
    "scrolled": true,
    "tags": []
   }
  },
  {
   "cell_type": "markdown",
   "source": [
    "### Install the package"
   ],
   "metadata": {}
  },
  {
   "cell_type": "code",
   "execution_count": null,
   "source": [
    "!sudo apt -y install intel-openvino-dev-ubuntu20-2021.4.582"
   ],
   "outputs": [],
   "metadata": {}
  },
  {
   "cell_type": "markdown",
   "source": [
    "### Install other OpenVINO dependencies/prerequisites"
   ],
   "metadata": {}
  },
  {
   "cell_type": "code",
   "execution_count": null,
   "source": [
    "%cd /opt/intel/openvino_2021/deployment_tools/model_optimizer/install_prerequisites\r\n",
    "!./install_prerequisites.sh\r\n",
    "%cd"
   ],
   "outputs": [],
   "metadata": {
    "scrolled": true,
    "tags": []
   }
  },
  {
   "cell_type": "markdown",
   "source": [
    "## Step 1: Convert the model to OpenVINO IR"
   ],
   "metadata": {}
  },
  {
   "cell_type": "markdown",
   "source": [
    "### Setup OpenVINO environment"
   ],
   "metadata": {}
  },
  {
   "cell_type": "code",
   "execution_count": null,
   "source": [
    "!source {OPENVINO_DIR}/bin/setupvars.sh"
   ],
   "outputs": [],
   "metadata": {}
  },
  {
   "cell_type": "markdown",
   "source": [
    "### Convert the model to OpenVINO IR\r\n",
    "Use the `mo_tf.py` tool to convert a TF-model to OpenVINO IR.\r\n",
    "\r\n",
    "This will generate three files: `saved_model.xml`, `saved_model.bin` and `saved_model.mapping`.\r\n",
    "\r\n",
    "Options are:\r\n",
    "- `saved_model_dir` should point to the `saved_model`-directory of the exported (frozen) model.\r\n",
    "- `tensorflow_object_detection_api_pipeline_config` should point to the `pipeline.conf` file used to create the model.\r\n",
    "- `transformation_config` points to a special config that helps the optimizer to convert the model. There are already some configs provided by OpenVINO. For more info check out [this](https://docs.openvinotoolkit.org/latest/openvino_docs_MO_DG_prepare_model_convert_model_tf_specific_Convert_Object_Detection_API_Models.html)\r\n",
    "- `reverse_input_channels` is used to invert the order of the input channels, i.e. `RGB <-> BGR`.\r\n",
    "This is required if the model was trained with one order and you want to use inference with the other"
   ],
   "metadata": {}
  },
  {
   "cell_type": "code",
   "execution_count": null,
   "source": [
    "!python3 {OPENVINO_DIR}/deployment_tools/model_optimizer/mo_tf.py --saved_model_dir {SAVED_MODEL} \\\r\n",
    "    --tensorflow_object_detection_api_pipeline_config {PIPELINE_CONFIG} \\\r\n",
    "    --transformations_config {TRANSFORMATION_CONFIG} \\\r\n",
    "    --reverse_input_channels"
   ],
   "outputs": [],
   "metadata": {
    "scrolled": true,
    "tags": []
   }
  },
  {
   "cell_type": "markdown",
   "source": [
    "### Compile the IR to Myriad code for execution on the OAK-device\r\n",
    "The OAK device cannot execute the OpenVINO IR directly so we have to compile it to a Myriad binary.\r\n",
    "\r\n",
    "This takes as input the OpenVINO IR and generates a `saved_model.blob`-file."
   ],
   "metadata": {}
  },
  {
   "cell_type": "code",
   "execution_count": null,
   "source": [
    "!{OPENVINO_DIR}/deployment_tools/tools/compile_tool/compile_tool -m saved_model.xml -ip U8 -d MYRIAD -VPU_NUMBER_OF_SHAVES 6 -VPU_NUMBER_OF_CMX_SLICES 6"
   ],
   "outputs": [],
   "metadata": {}
  }
 ],
 "metadata": {
  "orig_nbformat": 4,
  "language_info": {
   "name": "python",
   "version": "3.9.5",
   "mimetype": "text/x-python",
   "codemirror_mode": {
    "name": "ipython",
    "version": 3
   },
   "pygments_lexer": "ipython3",
   "nbconvert_exporter": "python",
   "file_extension": ".py"
  },
  "kernelspec": {
   "name": "python3",
   "display_name": "Python 3.9.5 64-bit"
  },
  "interpreter": {
   "hash": "cd996803aad8092a4e1d5a29cc88f5d58c6b76f5b2e8f52ec51c81d6d0146738"
  }
 },
 "nbformat": 4,
 "nbformat_minor": 2
}